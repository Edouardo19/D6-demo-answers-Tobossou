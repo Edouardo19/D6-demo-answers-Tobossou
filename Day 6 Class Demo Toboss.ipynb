{
 "cells": [
  {
   "cell_type": "markdown",
   "metadata": {},
   "source": [
    "### List\n",
    "1. Use numbers to index into a list, meaning you can use numbers to find out what’s in lists. \n",
    "2. List uses square brackets. "
   ]
  },
  {
   "cell_type": "code",
   "execution_count": 1,
   "metadata": {},
   "outputs": [],
   "source": [
    "clothes = ['shirts', 'jacket', 'pants', 'shorts']\n",
    "scores = [99, 86, 79, 91, 88]"
   ]
  },
  {
   "cell_type": "code",
   "execution_count": 2,
   "metadata": {},
   "outputs": [
    {
     "name": "stdout",
     "output_type": "stream",
     "text": [
      "['shirts', 'jacket', 'pants', 'shorts']\n"
     ]
    }
   ],
   "source": [
    "print(clothes)"
   ]
  },
  {
   "cell_type": "code",
   "execution_count": 3,
   "metadata": {},
   "outputs": [
    {
     "name": "stdout",
     "output_type": "stream",
     "text": [
      "['George Washington', 1789, 1797]\n"
     ]
    }
   ],
   "source": [
    "president1 = [\"George Washington\", 1789, 1797]\n",
    "print(president1)"
   ]
  },
  {
   "cell_type": "code",
   "execution_count": 4,
   "metadata": {},
   "outputs": [
    {
     "name": "stdout",
     "output_type": "stream",
     "text": [
      "[['George Washington', 1789, 1797], ['John Adams', 1797, 1801], ['Thomas Jefferson', 1801, 1809]]\n"
     ]
    }
   ],
   "source": [
    "president2 = [\"John Adams\", 1797, 1801]\n",
    "president3 = [\"Thomas Jefferson\", 1801, 1809]\n",
    "\n",
    "presidents = [president1, president2, president3]\n",
    "print(presidents)"
   ]
  },
  {
   "cell_type": "code",
   "execution_count": 5,
   "metadata": {},
   "outputs": [
    {
     "name": "stdout",
     "output_type": "stream",
     "text": [
      "['shirts', 'jacket', 'pants', 'shorts']\n",
      "shirts\n"
     ]
    }
   ],
   "source": [
    "# indexing\n",
    "\n",
    "print(clothes)\n",
    "cloth = clothes[0]\n",
    "print(cloth)"
   ]
  },
  {
   "cell_type": "code",
   "execution_count": 6,
   "metadata": {},
   "outputs": [
    {
     "data": {
      "text/plain": [
       "4"
      ]
     },
     "execution_count": 6,
     "metadata": {},
     "output_type": "execute_result"
    }
   ],
   "source": [
    "len(clothes)"
   ]
  },
  {
   "cell_type": "code",
   "execution_count": 7,
   "metadata": {},
   "outputs": [
    {
     "ename": "IndexError",
     "evalue": "list index out of range",
     "output_type": "error",
     "traceback": [
      "\u001b[1;31m---------------------------------------------------------------------------\u001b[0m",
      "\u001b[1;31mIndexError\u001b[0m                                Traceback (most recent call last)",
      "\u001b[1;32m<ipython-input-7-ef66de72c7b4>\u001b[0m in \u001b[0;36m<module>\u001b[1;34m\u001b[0m\n\u001b[1;32m----> 1\u001b[1;33m \u001b[0mclothes\u001b[0m\u001b[1;33m[\u001b[0m\u001b[1;36m4\u001b[0m\u001b[1;33m]\u001b[0m\u001b[1;33m\u001b[0m\u001b[1;33m\u001b[0m\u001b[0m\n\u001b[0m",
      "\u001b[1;31mIndexError\u001b[0m: list index out of range"
     ]
    }
   ],
   "source": [
    "clothes[4]"
   ]
  },
  {
   "cell_type": "code",
   "execution_count": null,
   "metadata": {},
   "outputs": [],
   "source": [
    "print(clothes)\n",
    "clothes[3] = \"coat\"\n",
    "print(clothes)"
   ]
  },
  {
   "cell_type": "code",
   "execution_count": null,
   "metadata": {},
   "outputs": [],
   "source": [
    "# slicing\n",
    "\n",
    "print(scores)\n",
    "new_scores = scores[1 : 3]\n",
    "print(new_scores)"
   ]
  },
  {
   "cell_type": "code",
   "execution_count": null,
   "metadata": {},
   "outputs": [],
   "source": [
    "person = presidents[1]\n",
    "print(person)"
   ]
  },
  {
   "cell_type": "code",
   "execution_count": null,
   "metadata": {},
   "outputs": [],
   "source": [
    "print(person[0])\n",
    "print(presidents[1][0])"
   ]
  },
  {
   "cell_type": "code",
   "execution_count": null,
   "metadata": {},
   "outputs": [],
   "source": [
    "print(presidents[0:2][0])   # why?"
   ]
  },
  {
   "cell_type": "code",
   "execution_count": null,
   "metadata": {},
   "outputs": [],
   "source": [
    "print(presidents[0:2])"
   ]
  },
  {
   "cell_type": "code",
   "execution_count": null,
   "metadata": {},
   "outputs": [],
   "source": [
    "# remember, indexing returns an item\n",
    "\n",
    "# squares = [1, 4, 9, 16, 25, 36, 49, 64, 81, 100]\n",
    "squares = [1, 4, 9, 16, 25, 36, 49, 64, 81]\n",
    "print(squares[0])\n",
    "print(squares[-1])"
   ]
  },
  {
   "cell_type": "code",
   "execution_count": null,
   "metadata": {},
   "outputs": [],
   "source": [
    "# slicing returns a new list\n",
    "\n",
    "print(squares[-3:])"
   ]
  },
  {
   "cell_type": "code",
   "execution_count": null,
   "metadata": {},
   "outputs": [],
   "source": [
    "print(squares[:-3])"
   ]
  },
  {
   "cell_type": "code",
   "execution_count": null,
   "metadata": {},
   "outputs": [],
   "source": [
    "# remember, slicing - [start(inclusive) : end (exclusive) : step (default is 1)]\n",
    "\n",
    "print(squares[:: 1])\n",
    "print(squares[:: -1])"
   ]
  },
  {
   "cell_type": "code",
   "execution_count": null,
   "metadata": {},
   "outputs": [],
   "source": [
    "print(squares)\n",
    "print(squares[2:7])\n",
    "print(squares[2:7:2])"
   ]
  },
  {
   "cell_type": "code",
   "execution_count": null,
   "metadata": {},
   "outputs": [],
   "source": [
    "print(squares)             # original list\n",
    "print(squares[::-1])       # reversed order\n",
    "print(squares[:2:-1])      # squares[2] == 9, not inclusive\n",
    "                           # squares[8], [7], ... [4], [3] "
   ]
  },
  {
   "cell_type": "code",
   "execution_count": null,
   "metadata": {},
   "outputs": [],
   "source": [
    "print(squares)             # original list\n",
    "print(squares[::-2])       # reversed order, every other item\n",
    "print(squares[:2:-2])      # squares[2] == 9, not inclusive\n",
    "                           # squares[8], squares[6], squares[4]"
   ]
  },
  {
   "cell_type": "code",
   "execution_count": null,
   "metadata": {},
   "outputs": [],
   "source": [
    "# initialize list\n",
    "shopping = []\n",
    "scores = [0] *10\n",
    "names = [\"\"] *5\n",
    "chars = \"\" *5"
   ]
  },
  {
   "cell_type": "code",
   "execution_count": null,
   "metadata": {},
   "outputs": [],
   "source": [
    "print(f\"{shopping} has a length of {len(shopping)}\")\n",
    "print(f\"{scores} has a length of {len(scores)}\")\n",
    "print(f\"{names} has a length of {len(names)}\")\n",
    "print(f\">>>{chars}<<< has a length of {len(chars)}\")"
   ]
  },
  {
   "cell_type": "code",
   "execution_count": null,
   "metadata": {},
   "outputs": [],
   "source": [
    "person = \"George Washington, 1789, 1797\"\n",
    "person_list = person.split()\n",
    "print(person_list)"
   ]
  },
  {
   "cell_type": "code",
   "execution_count": null,
   "metadata": {},
   "outputs": [],
   "source": [
    "person.split(\"7\")"
   ]
  },
  {
   "cell_type": "code",
   "execution_count": null,
   "metadata": {},
   "outputs": [],
   "source": [
    "person.split(\",\", 1)"
   ]
  },
  {
   "cell_type": "code",
   "execution_count": null,
   "metadata": {},
   "outputs": [],
   "source": [
    "person.split(\",\", 1)[0]"
   ]
  },
  {
   "cell_type": "code",
   "execution_count": null,
   "metadata": {},
   "outputs": [],
   "source": [
    "person.split(\",\", 1)[1]"
   ]
  },
  {
   "cell_type": "code",
   "execution_count": null,
   "metadata": {},
   "outputs": [],
   "source": [
    "msg = \"I'm just a simple man trying to make my way in the universe.\"\n",
    "msg_list = msg.split()\n",
    "print(msg_list)"
   ]
  },
  {
   "cell_type": "code",
   "execution_count": null,
   "metadata": {},
   "outputs": [],
   "source": [
    "msg = \"I'm just a simple man trying to make my way in the universe.\"\n",
    "msg_list = msg.split('m')\n",
    "print(msg_list)"
   ]
  },
  {
   "cell_type": "markdown",
   "metadata": {},
   "source": [
    "### Exercise 1\n",
    "Find the fourth word in a phrase, \"Python is a great first language\". \n",
    "First, split \"Python is a great first language\" into a list and then display the fourth word."
   ]
  },
  {
   "cell_type": "code",
   "execution_count": 2,
   "metadata": {},
   "outputs": [
    {
     "ename": "ValueError",
     "evalue": "empty separator",
     "output_type": "error",
     "traceback": [
      "\u001b[1;31m---------------------------------------------------------------------------\u001b[0m",
      "\u001b[1;31mValueError\u001b[0m                                Traceback (most recent call last)",
      "\u001b[1;32m<ipython-input-2-7b81159a9af5>\u001b[0m in \u001b[0;36m<module>\u001b[1;34m\u001b[0m\n\u001b[0;32m      1\u001b[0m \u001b[0mphrase\u001b[0m \u001b[1;33m=\u001b[0m \u001b[1;33m(\u001b[0m\u001b[1;34m\"Python is a great first language\"\u001b[0m\u001b[1;33m)\u001b[0m\u001b[1;33m\u001b[0m\u001b[1;33m\u001b[0m\u001b[0m\n\u001b[1;32m----> 2\u001b[1;33m \u001b[0mphrase_list\u001b[0m \u001b[1;33m=\u001b[0m \u001b[0mphrase\u001b[0m\u001b[1;33m.\u001b[0m\u001b[0msplit\u001b[0m\u001b[1;33m(\u001b[0m\u001b[1;34m\"\"\u001b[0m\u001b[1;33m)\u001b[0m\u001b[1;33m\u001b[0m\u001b[1;33m\u001b[0m\u001b[0m\n\u001b[0m\u001b[0;32m      3\u001b[0m \u001b[0mprint\u001b[0m\u001b[1;33m(\u001b[0m\u001b[0mphrase_list\u001b[0m\u001b[1;33m)\u001b[0m\u001b[1;33m[\u001b[0m\u001b[1;36m3\u001b[0m\u001b[1;33m]\u001b[0m\u001b[1;33m\u001b[0m\u001b[1;33m\u001b[0m\u001b[0m\n",
      "\u001b[1;31mValueError\u001b[0m: empty separator"
     ]
    }
   ],
   "source": [
    "phrase = (\"Python is a great first language\")\n",
    "phrase_list = phrase.split(\"\")\n",
    "print(phrase_list)[3]"
   ]
  },
  {
   "cell_type": "markdown",
   "metadata": {},
   "source": [
    "### List Methods \n",
    "add item to a list"
   ]
  },
  {
   "cell_type": "code",
   "execution_count": null,
   "metadata": {},
   "outputs": [],
   "source": [
    "print(squares)\n",
    "squares[len(squares)] = 100"
   ]
  },
  {
   "cell_type": "code",
   "execution_count": null,
   "metadata": {},
   "outputs": [],
   "source": [
    "# list method - append()\n",
    "\n",
    "squares.append(100)\n",
    "print(squares)"
   ]
  },
  {
   "cell_type": "code",
   "execution_count": null,
   "metadata": {},
   "outputs": [],
   "source": [
    "items = [\"shirts\", \"hat\", \"shoes\"]\n",
    "items.append(99)\n",
    "print(items)"
   ]
  },
  {
   "cell_type": "code",
   "execution_count": null,
   "metadata": {},
   "outputs": [],
   "source": [
    "print(presidents)"
   ]
  },
  {
   "cell_type": "code",
   "execution_count": null,
   "metadata": {},
   "outputs": [],
   "source": [
    "person = []\n",
    "person.append(\"James Monroe\")\n",
    "person.append(1817)\n",
    "person.append(1825)\n",
    "print(person)"
   ]
  },
  {
   "cell_type": "code",
   "execution_count": null,
   "metadata": {},
   "outputs": [],
   "source": [
    "presidents.append(person)\n",
    "print(presidents)"
   ]
  },
  {
   "cell_type": "code",
   "execution_count": null,
   "metadata": {},
   "outputs": [],
   "source": [
    "person = []\n",
    "person.append(1809)\n",
    "person.append(1817)\n",
    "print(person)"
   ]
  },
  {
   "cell_type": "code",
   "execution_count": null,
   "metadata": {},
   "outputs": [],
   "source": [
    "# list method - insert()\n",
    "\n",
    "person.insert(0, \"James Madison\")\n",
    "print(person)"
   ]
  },
  {
   "cell_type": "code",
   "execution_count": null,
   "metadata": {},
   "outputs": [],
   "source": [
    "print(presidents)"
   ]
  },
  {
   "cell_type": "code",
   "execution_count": null,
   "metadata": {},
   "outputs": [],
   "source": [
    "presidents.insert(3, person)\n",
    "print(presidents)"
   ]
  },
  {
   "cell_type": "code",
   "execution_count": 3,
   "metadata": {},
   "outputs": [
    {
     "name": "stdout",
     "output_type": "stream",
     "text": [
      "org_names:  ['George Washington', 'John Adams', 'Thomas Jefferson']\n",
      "names:      ['George Washington', 'John Adams', 'Thomas Jefferson', 'James Madison', 'James Monroe']\n",
      "more_names: ['James Madison', 'James Monroe']\n"
     ]
    }
   ],
   "source": [
    "# list method - extend()\n",
    "\n",
    "names = ['George Washington', 'John Adams', 'Thomas Jefferson']\n",
    "more_names = ['James Madison', 'James Monroe']\n",
    "\n",
    "org_names = names.copy()\n",
    "\n",
    "names.extend(more_names)\n",
    "\n",
    "print(f\"org_names:  {org_names}\")\n",
    "print(f\"names:      {names}\")\n",
    "print(f\"more_names: {more_names}\")"
   ]
  },
  {
   "cell_type": "code",
   "execution_count": null,
   "metadata": {},
   "outputs": [],
   "source": [
    "more_names.append(\"test\")\n",
    "\n",
    "print(f\"org_names:  {org_names}\")\n",
    "print(f\"names:      {names}\")\n",
    "print(f\"more_names: {more_names}\")"
   ]
  },
  {
   "cell_type": "code",
   "execution_count": 4,
   "metadata": {},
   "outputs": [
    {
     "name": "stdout",
     "output_type": "stream",
     "text": [
      "['March', 'April', 'May', 'June', 'July', 'Aug', 'September', 'October', 'November', 'December', 'January', 'February']\n"
     ]
    }
   ],
   "source": [
    "spring = [\"March\", \"April\", \"May\"]\n",
    "summer = [\"June\", \"July\", \"Aug\"]\n",
    "fall = [\"September\", \"October\", \"November\"]\n",
    "winter = [\"December\", \"January\", \"February\"]\n",
    "\n",
    "year = spring.copy()\n",
    "year.extend(summer)\n",
    "year.extend(fall)\n",
    "year.extend(winter)\n",
    "\n",
    "print(year)"
   ]
  },
  {
   "cell_type": "code",
   "execution_count": null,
   "metadata": {},
   "outputs": [],
   "source": [
    "print(spring, summer, fall, winter)"
   ]
  },
  {
   "cell_type": "code",
   "execution_count": null,
   "metadata": {},
   "outputs": [],
   "source": [
    "spr = spring.copy()\n",
    "spr.extend(\"June\")\n",
    "print(spr)     # what do you think?"
   ]
  },
  {
   "cell_type": "code",
   "execution_count": null,
   "metadata": {},
   "outputs": [],
   "source": [
    "spr = spring.copy()\n",
    "spr.extend([\"June\"])\n",
    "print(spr)     "
   ]
  },
  {
   "cell_type": "code",
   "execution_count": null,
   "metadata": {},
   "outputs": [],
   "source": [
    "# list method - index()\n",
    "print(person)\n",
    "person.index(\"James Madison\")"
   ]
  },
  {
   "cell_type": "code",
   "execution_count": null,
   "metadata": {},
   "outputs": [],
   "source": [
    "person.index(1809)"
   ]
  },
  {
   "cell_type": "code",
   "execution_count": null,
   "metadata": {},
   "outputs": [],
   "source": [
    "person.index(1819)"
   ]
  },
  {
   "cell_type": "code",
   "execution_count": null,
   "metadata": {},
   "outputs": [],
   "source": [
    "print(person)\n",
    "print(presidents.index(person))\n",
    "print(presidents)"
   ]
  },
  {
   "cell_type": "code",
   "execution_count": null,
   "metadata": {},
   "outputs": [],
   "source": [
    "print(presidents.index(['James Madison', 1809, 1817]))"
   ]
  },
  {
   "cell_type": "code",
   "execution_count": null,
   "metadata": {},
   "outputs": [],
   "source": [
    "print(presidents.index(['james madison', 1809, 1817]))"
   ]
  },
  {
   "cell_type": "code",
   "execution_count": null,
   "metadata": {},
   "outputs": [],
   "source": [
    "scores = [100, 99, 89, 99, 78]\n",
    "print(scores.index(99))"
   ]
  },
  {
   "cell_type": "code",
   "execution_count": null,
   "metadata": {},
   "outputs": [],
   "source": [
    "# list method - copy()\n",
    "\n",
    "clothes = ['shirts', 'jacket', 'pants', 'shorts']\n",
    "org_clothes = clothes\n",
    "clothes.append('coat')"
   ]
  },
  {
   "cell_type": "code",
   "execution_count": null,
   "metadata": {},
   "outputs": [],
   "source": [
    "print(clothes)\n",
    "print()\n",
    "print(org_clothes)"
   ]
  },
  {
   "cell_type": "code",
   "execution_count": null,
   "metadata": {},
   "outputs": [],
   "source": [
    "clothes = ['shirts', 'jacket', 'pants', 'shorts']\n",
    "org_clothes = clothes.copy()\n",
    "clothes.append('coat')\n",
    "\n",
    "print(clothes)\n",
    "print()\n",
    "print(org_clothes)"
   ]
  },
  {
   "cell_type": "markdown",
   "metadata": {},
   "source": [
    "### Exercise 2\n",
    "    1. Ask a user for 2 numbers. \n",
    "    2. Generate 5 random numbers between those 2 numbers and save it to a list called nos1. \n",
    "    3. Generate 3 random numbers between those 2 numbers and save it to a list called nos2. \n",
    "    4. Make a copy of nos1 and save it to variable called all_nos.\n",
    "    5. Extend nos2 to the end of nos1.\n",
    "    6. Print original 5 random numbers, 3 random numbers, and all 8 numbers.\n",
    "    "
   ]
  },
  {
   "cell_type": "code",
   "execution_count": 5,
   "metadata": {},
   "outputs": [
    {
     "name": "stdout",
     "output_type": "stream",
     "text": [
      "Enter a first number: 2\n",
      "Enter a second number: 7\n"
     ]
    }
   ],
   "source": [
    "# ask a user for 2 numbers - do you need to import anything?\n",
    "import random as rand\n",
    "\n",
    "start_no = int(input(\"Enter a first number: \"))\n",
    "end_no = int(input(\"Enter a second number: \"))"
   ]
  },
  {
   "cell_type": "code",
   "execution_count": 6,
   "metadata": {},
   "outputs": [],
   "source": [
    "# generate 5 random numbers between those 2 numbers and save it to a list called nos1\n",
    "numb1 = [rand.randint(start_no, end_no)]\n",
    "numb2 = [rand.randint(start_no, end_no)]\n",
    "numb3 = [rand.randint(start_no, end_no)]\n",
    "numb4 = [rand.randint(start_no, end_no)]\n",
    "numb5 = [rand.randint(start_no, end_no)]\n",
    "nos1 = numb1.copy()\n",
    "nos1.extend(numb2)\n",
    "nos1.extend(numb3)\n",
    "nos1.extend(numb4)\n",
    "nos1.extend(numb5)"
   ]
  },
  {
   "cell_type": "code",
   "execution_count": 7,
   "metadata": {},
   "outputs": [],
   "source": [
    "# generate 3 random numbers between those 2 numbers and save it to a list called nos2\n",
    "numb6 = [rand.randint(start_no, end_no)]\n",
    "numb7 = [rand.randint(start_no, end_no)]\n",
    "numb8 = [rand.randint(start_no, end_no)]\n",
    "nos2 = numb6.copy()\n",
    "nos2.extend(numb7)\n",
    "nos2.extend(numb8)"
   ]
  },
  {
   "cell_type": "code",
   "execution_count": 8,
   "metadata": {},
   "outputs": [],
   "source": [
    "# copy nos1 and save to all_nos variable\n",
    "all_nos = nos1.copy()"
   ]
  },
  {
   "cell_type": "code",
   "execution_count": 9,
   "metadata": {},
   "outputs": [],
   "source": [
    "# extend nos2 to the end of all_nos\n",
    "all_nos.extend(nos2)\n"
   ]
  },
  {
   "cell_type": "code",
   "execution_count": 10,
   "metadata": {},
   "outputs": [
    {
     "name": "stdout",
     "output_type": "stream",
     "text": [
      "5 random numbers: [3, 7, 5, 6, 5]\n",
      "3 random numbers: [3, 3, 7]\n",
      "All random numbers: [3, 7, 5, 6, 5, 3, 3, 7]\n"
     ]
    }
   ],
   "source": [
    "# print original 5 random numbers, 3 random numbers, and all 8 numbers\n",
    "\n",
    "print(f\"5 random numbers: {nos1}\")\n",
    "print(f\"3 random numbers: {nos2}\")\n",
    "print(f\"All random numbers: {all_nos}\")"
   ]
  },
  {
   "cell_type": "markdown",
   "metadata": {},
   "source": [
    "### List Methods\n",
    "remove item in a list"
   ]
  },
  {
   "cell_type": "code",
   "execution_count": null,
   "metadata": {},
   "outputs": [],
   "source": [
    "# pop()\n",
    "\n",
    "clothes = ['shirts', 'jacket', 'pants', 'shorts', 'coat']\n",
    "org_clothes = clothes.copy()\n",
    "x = clothes"
   ]
  },
  {
   "cell_type": "code",
   "execution_count": null,
   "metadata": {},
   "outputs": [],
   "source": [
    "item = clothes.pop()\n",
    "print(item)\n",
    "print(clothes)"
   ]
  },
  {
   "cell_type": "code",
   "execution_count": null,
   "metadata": {},
   "outputs": [],
   "source": [
    "item = clothes.pop(2)\n",
    "print(item)\n",
    "print(clothes)"
   ]
  },
  {
   "cell_type": "code",
   "execution_count": null,
   "metadata": {},
   "outputs": [],
   "source": [
    "# remove()\n",
    "\n",
    "clothes.remove(\"jacket\")\n",
    "print(clothes)"
   ]
  },
  {
   "cell_type": "code",
   "execution_count": null,
   "metadata": {},
   "outputs": [],
   "source": [
    "clothes.append(item)\n",
    "clothes.insert(1, item)\n",
    "clothes.append(item)\n",
    "print(clothes)"
   ]
  },
  {
   "cell_type": "code",
   "execution_count": null,
   "metadata": {},
   "outputs": [],
   "source": [
    "clothes.remove(\"pants\")\n",
    "print(clothes)"
   ]
  },
  {
   "cell_type": "code",
   "execution_count": null,
   "metadata": {},
   "outputs": [],
   "source": [
    "clothes.remove(\"jacket\")"
   ]
  },
  {
   "cell_type": "code",
   "execution_count": null,
   "metadata": {},
   "outputs": [],
   "source": [
    "\"aple\" in \"apple pie\""
   ]
  },
  {
   "cell_type": "code",
   "execution_count": null,
   "metadata": {},
   "outputs": [],
   "source": [
    "# count()\n",
    "\n",
    "\"pants\" in clothes"
   ]
  },
  {
   "cell_type": "code",
   "execution_count": null,
   "metadata": {},
   "outputs": [],
   "source": [
    "clothes.count(\"pants\")"
   ]
  },
  {
   "cell_type": "code",
   "execution_count": null,
   "metadata": {},
   "outputs": [],
   "source": [
    "clothes.count(\"jacket\")"
   ]
  },
  {
   "cell_type": "code",
   "execution_count": null,
   "metadata": {},
   "outputs": [],
   "source": [
    "# list method: sort()\n",
    "names = ['elmo', 'big bird', '1', '9', '$', 'count', 'Count']\n",
    "org_names = names.copy()\n",
    "names.sort()\n",
    "\n",
    "print(f\"names:     {names}\")\n",
    "print(f\"org_names: {org_names}\")"
   ]
  },
  {
   "cell_type": "code",
   "execution_count": null,
   "metadata": {},
   "outputs": [],
   "source": [
    "names = org_names.copy()\n",
    "names.sort(reverse=True)\n",
    "\n",
    "print(f\"names:     {names}\")\n",
    "print(f\"org_names: {org_names}\")"
   ]
  },
  {
   "cell_type": "code",
   "execution_count": null,
   "metadata": {},
   "outputs": [],
   "source": [
    "# sorted() built-in function\n",
    "\n",
    "names = org_names.copy()\n",
    "print(f\"Before: {names}\")\n",
    "ordered = sorted(names)\n",
    "print(f\"After:  {ordered}\")"
   ]
  },
  {
   "cell_type": "code",
   "execution_count": null,
   "metadata": {},
   "outputs": [],
   "source": [
    "president1 = president1\n",
    "print(f\"Before: {president1}\")\n",
    "ordered = sorted(president1)\n",
    "print(f\"After:  {ordered}\")"
   ]
  },
  {
   "cell_type": "code",
   "execution_count": null,
   "metadata": {},
   "outputs": [],
   "source": [
    "presidents = [['George Washington', 1789, 1797], \n",
    "              ['Thomas Jefferson', 1801, 1809], \n",
    "              ['John Adams', 1797, 1801]]\n",
    "\n",
    "print(f\"Before: {presidents}\")\n",
    "ordered = sorted(presidents)\n",
    "print(f\"After:  {ordered}\")"
   ]
  },
  {
   "cell_type": "code",
   "execution_count": null,
   "metadata": {},
   "outputs": [],
   "source": [
    "l1 = [ 1, 11, 111]\n",
    "l2 = [1, 12]\n",
    "l3 = [1, 12, 124]\n",
    "\n",
    "test = [l2, l1, l3]\n",
    "org_test = test.copy()"
   ]
  },
  {
   "cell_type": "code",
   "execution_count": null,
   "metadata": {},
   "outputs": [],
   "source": [
    "print(f\"Before: {test}\")\n",
    "ordered = sorted(test)\n",
    "print(f\"After:  {ordered}\")"
   ]
  },
  {
   "cell_type": "code",
   "execution_count": null,
   "metadata": {},
   "outputs": [],
   "source": [
    "# list is a mutable data type\n",
    "\n",
    "def replace(sample, index) :\n",
    "    sample[index] = '*'\n",
    "    \n",
    "orig = [1, 2, 3]\n",
    "print(orig)\n",
    "replace(orig, 1)\n",
    "print(orig)\n",
    "    "
   ]
  },
  {
   "cell_type": "code",
   "execution_count": null,
   "metadata": {},
   "outputs": [],
   "source": [
    "def xfer(arg1, arg2) :\n",
    "    print(f\"entered xfer():arg1={arg1}, arg2={arg2}\")\n",
    "    temp = arg1\n",
    "    arg1 = arg2\n",
    "    arg2 = temp\n",
    "    print(f\"exiting xfer():arg1={arg1}, arg2={arg2}\")\n",
    "    \n",
    "x = 5\n",
    "y = [1, 2, 3]\n",
    "xfer(x, y)\n",
    "\n",
    "print(x, y, sep=\"\\n\")"
   ]
  },
  {
   "cell_type": "code",
   "execution_count": null,
   "metadata": {},
   "outputs": [],
   "source": [
    "# data types (integer, float, string) are not mutable but list is \n",
    "\n",
    "\n",
    "def xfer2(arg1, arg2) :\n",
    "    print(f\"entered xfer2():arg1={arg1}, arg2={arg2}\")\n",
    "    arg1 *= 2\n",
    "    arg2[0] = arg1\n",
    "    print(f\"exiting xfer2():arg1={arg1}, arg2={arg2}\")\n",
    "    \n",
    "    \n",
    "x = 5\n",
    "y = [1, 2, 3]\n",
    "xfer2(x, y)\n",
    "\n",
    "print(f\"\\nx={x} y={y}\")"
   ]
  },
  {
   "cell_type": "markdown",
   "metadata": {},
   "source": [
    "### Exercise 3\n",
    "Get 7 book tittles from a user and save it in a list.\n",
    "Then, remove the title in the middle of the list after sorting them alphabetically. \n",
    "Display the original tittles, sorted tittles, and titles after removing one."
   ]
  },
  {
   "cell_type": "code",
   "execution_count": null,
   "metadata": {},
   "outputs": [],
   "source": []
  },
  {
   "cell_type": "code",
   "execution_count": null,
   "metadata": {},
   "outputs": [],
   "source": []
  },
  {
   "cell_type": "markdown",
   "metadata": {},
   "source": [
    "### Tuple"
   ]
  },
  {
   "cell_type": "code",
   "execution_count": 8,
   "metadata": {},
   "outputs": [
    {
     "name": "stdout",
     "output_type": "stream",
     "text": [
      "Th\n"
     ]
    }
   ],
   "source": [
    "week = ('M', 'T', 'W', 'Th', 'F', 'Sa', 'Su')\n",
    "print(week[3])"
   ]
  },
  {
   "cell_type": "code",
   "execution_count": 9,
   "metadata": {},
   "outputs": [
    {
     "name": "stdout",
     "output_type": "stream",
     "text": [
      "Sa\n"
     ]
    }
   ],
   "source": [
    "print(week[-2])"
   ]
  },
  {
   "cell_type": "code",
   "execution_count": 10,
   "metadata": {},
   "outputs": [
    {
     "name": "stdout",
     "output_type": "stream",
     "text": [
      "('M', 'W', 'F', 'Su')\n"
     ]
    }
   ],
   "source": [
    "print(week[::2])"
   ]
  },
  {
   "cell_type": "code",
   "execution_count": 11,
   "metadata": {},
   "outputs": [
    {
     "name": "stdout",
     "output_type": "stream",
     "text": [
      "foodie\n"
     ]
    },
    {
     "ename": "IndexError",
     "evalue": "tuple index out of range",
     "output_type": "error",
     "traceback": [
      "\u001b[1;31m---------------------------------------------------------------------------\u001b[0m",
      "\u001b[1;31mIndexError\u001b[0m                                Traceback (most recent call last)",
      "\u001b[1;32m<ipython-input-11-d9bb6b26059d>\u001b[0m in \u001b[0;36m<module>\u001b[1;34m\u001b[0m\n\u001b[0;32m      1\u001b[0m \u001b[0mhobbies\u001b[0m \u001b[1;33m=\u001b[0m \u001b[1;33m(\u001b[0m\u001b[1;34m\"hiking\"\u001b[0m\u001b[1;33m,\u001b[0m \u001b[1;34m\"tennis\"\u001b[0m\u001b[1;33m,\u001b[0m \u001b[1;34m\"foodie\"\u001b[0m\u001b[1;33m)\u001b[0m\u001b[1;33m\u001b[0m\u001b[1;33m\u001b[0m\u001b[0m\n\u001b[0;32m      2\u001b[0m \u001b[0mprint\u001b[0m\u001b[1;33m(\u001b[0m\u001b[0mhobbies\u001b[0m\u001b[1;33m[\u001b[0m\u001b[1;36m2\u001b[0m\u001b[1;33m]\u001b[0m\u001b[1;33m)\u001b[0m\u001b[1;33m\u001b[0m\u001b[1;33m\u001b[0m\u001b[0m\n\u001b[1;32m----> 3\u001b[1;33m \u001b[0mprint\u001b[0m\u001b[1;33m(\u001b[0m\u001b[0mhobbies\u001b[0m\u001b[1;33m[\u001b[0m\u001b[1;36m5\u001b[0m\u001b[1;33m]\u001b[0m\u001b[1;33m)\u001b[0m\u001b[1;33m\u001b[0m\u001b[1;33m\u001b[0m\u001b[0m\n\u001b[0m",
      "\u001b[1;31mIndexError\u001b[0m: tuple index out of range"
     ]
    }
   ],
   "source": [
    "hobbies = (\"hiking\", \"tennis\", \"foodie\")\n",
    "print(hobbies[2])\n",
    "print(hobbies[5])"
   ]
  },
  {
   "cell_type": "code",
   "execution_count": 12,
   "metadata": {},
   "outputs": [
    {
     "ename": "TypeError",
     "evalue": "'tuple' object does not support item assignment",
     "output_type": "error",
     "traceback": [
      "\u001b[1;31m---------------------------------------------------------------------------\u001b[0m",
      "\u001b[1;31mTypeError\u001b[0m                                 Traceback (most recent call last)",
      "\u001b[1;32m<ipython-input-12-afd27e0b621a>\u001b[0m in \u001b[0;36m<module>\u001b[1;34m\u001b[0m\n\u001b[1;32m----> 1\u001b[1;33m \u001b[0mhobbies\u001b[0m\u001b[1;33m[\u001b[0m\u001b[1;36m2\u001b[0m\u001b[1;33m]\u001b[0m \u001b[1;33m=\u001b[0m \u001b[1;34m\"binge watching\"\u001b[0m\u001b[1;33m\u001b[0m\u001b[1;33m\u001b[0m\u001b[0m\n\u001b[0m\u001b[0;32m      2\u001b[0m \u001b[0mprint\u001b[0m\u001b[1;33m(\u001b[0m\u001b[0mhobbies\u001b[0m\u001b[1;33m)\u001b[0m\u001b[1;33m\u001b[0m\u001b[1;33m\u001b[0m\u001b[0m\n",
      "\u001b[1;31mTypeError\u001b[0m: 'tuple' object does not support item assignment"
     ]
    }
   ],
   "source": [
    "hobbies[2] = \"binge watching\"\n",
    "print(hobbies)"
   ]
  },
  {
   "cell_type": "code",
   "execution_count": 2,
   "metadata": {},
   "outputs": [
    {
     "name": "stdout",
     "output_type": "stream",
     "text": [
      "<class 'tuple'>\n",
      "0\n"
     ]
    }
   ],
   "source": [
    "# empty tuple\n",
    "\n",
    "items = ()\n",
    "print(type(items))\n",
    "print(len(items))"
   ]
  },
  {
   "cell_type": "code",
   "execution_count": 3,
   "metadata": {},
   "outputs": [
    {
     "name": "stdout",
     "output_type": "stream",
     "text": [
      "<class 'str'>\n",
      "3\n"
     ]
    }
   ],
   "source": [
    "items2 = (\"one\")\n",
    "print(type(items2))\n",
    "print(len(items2))"
   ]
  },
  {
   "cell_type": "code",
   "execution_count": 4,
   "metadata": {},
   "outputs": [
    {
     "name": "stdout",
     "output_type": "stream",
     "text": [
      "<class 'tuple'>\n",
      "1\n"
     ]
    }
   ],
   "source": [
    "# tuple with one item\n",
    "\n",
    "items3 = (\"one\",)\n",
    "print(type(items3))\n",
    "print(len(items3))\n"
   ]
  },
  {
   "cell_type": "code",
   "execution_count": 7,
   "metadata": {},
   "outputs": [
    {
     "name": "stdout",
     "output_type": "stream",
     "text": [
      "<class 'tuple'>\n",
      "2\n"
     ]
    }
   ],
   "source": [
    "# tuple with multiple items\n",
    "\n",
    "items4 = (\"one\", \"two\")\n",
    "print(type(items4))\n",
    "print(len(items4))\n"
   ]
  },
  {
   "cell_type": "code",
   "execution_count": 8,
   "metadata": {},
   "outputs": [
    {
     "name": "stdout",
     "output_type": "stream",
     "text": [
      "(99, 87, 79, 88, 88, 100)\n",
      "('Rachel', 'Monica', 'Phoebe', 'Joey', 'Chandler', 'Ross')\n",
      "('jacket', 'M', 20, 9.99)\n"
     ]
    }
   ],
   "source": [
    "scores = (99, 87, 79, 88, 88, 100)\n",
    "names = (\"Rachel\", \"Monica\", \"Phoebe\", \"Joey\", \"Chandler\", \"Ross\")\n",
    "sample = (\"jacket\", \"M\", 20, 9.99)\n",
    "\n",
    "print(scores)\n",
    "print(names)\n",
    "print(sample)"
   ]
  },
  {
   "cell_type": "code",
   "execution_count": 13,
   "metadata": {},
   "outputs": [
    {
     "name": "stdout",
     "output_type": "stream",
     "text": [
      "('3-22', '4-30', '5-11', '12-18')\n",
      "<class 'tuple'>\n",
      "4\n"
     ]
    }
   ],
   "source": [
    "demo = tuple(('3-22', '4-30', '5-11', '12-18'))\n",
    "print(demo)\n",
    "print(type(demo))\n",
    "print(len(demo))"
   ]
  },
  {
   "cell_type": "code",
   "execution_count": 14,
   "metadata": {},
   "outputs": [
    {
     "name": "stdout",
     "output_type": "stream",
     "text": [
      "['3-22', '4-30', '5-11', '12-18']\n",
      "<class 'list'>\n",
      "4\n"
     ]
    }
   ],
   "source": [
    "demo2 = list(('3-22', '4-30', '5-11', '12-18'))\n",
    "print(demo2)\n",
    "print(type(demo2))\n",
    "print(len(demo2))"
   ]
  },
  {
   "cell_type": "code",
   "execution_count": 13,
   "metadata": {},
   "outputs": [
    {
     "name": "stdout",
     "output_type": "stream",
     "text": [
      "('hiking', 'tennis', 'foodie')\n",
      "['hiking', 'tennis', 'foodie']\n"
     ]
    }
   ],
   "source": [
    "# list() & tuple() built-in function\n",
    "\n",
    "hobbies_list = list(hobbies)\n",
    "print(hobbies)\n",
    "print(hobbies_list)"
   ]
  },
  {
   "cell_type": "code",
   "execution_count": 14,
   "metadata": {},
   "outputs": [
    {
     "name": "stdout",
     "output_type": "stream",
     "text": [
      "['hiking', 'tennis', 'binge watching']\n"
     ]
    }
   ],
   "source": [
    "hobbies_list[2] = \"binge watching\"\n",
    "print(hobbies_list)"
   ]
  },
  {
   "cell_type": "code",
   "execution_count": 15,
   "metadata": {},
   "outputs": [
    {
     "name": "stdout",
     "output_type": "stream",
     "text": [
      "['hiking', 'tennis', 'binge watching']\n",
      "('hiking', 'tennis', 'binge watching')\n"
     ]
    }
   ],
   "source": [
    "hobbies_tuple = tuple(hobbies_list)\n",
    "print(hobbies_list)\n",
    "print(hobbies_tuple)"
   ]
  },
  {
   "cell_type": "code",
   "execution_count": 16,
   "metadata": {},
   "outputs": [
    {
     "data": {
      "text/plain": [
       "range(1, 5)"
      ]
     },
     "execution_count": 16,
     "metadata": {},
     "output_type": "execute_result"
    }
   ],
   "source": [
    "range(1, 5)"
   ]
  },
  {
   "cell_type": "markdown",
   "metadata": {},
   "source": [
    "### Repetition Statement - Loop"
   ]
  },
  {
   "cell_type": "code",
   "execution_count": 16,
   "metadata": {},
   "outputs": [
    {
     "name": "stdout",
     "output_type": "stream",
     "text": [
      "1\n",
      "2\n",
      "3\n",
      "4\n",
      "5\n"
     ]
    }
   ],
   "source": [
    "# counter loop\n",
    "\n",
    "for item in [1, 2, 3, 4, 5] :\n",
    "    print(item)"
   ]
  },
  {
   "cell_type": "code",
   "execution_count": 17,
   "metadata": {},
   "outputs": [
    {
     "name": "stdout",
     "output_type": "stream",
     "text": [
      "['shirts', 'jacket', 'pants', 'shorts']\n",
      "I have shirts\n",
      "I have jacket\n",
      "I have pants\n",
      "I have shorts\n",
      "Done!\n"
     ]
    }
   ],
   "source": [
    "print(clothes)\n",
    "for item in clothes :\n",
    "    print(f\"I have {item}\")\n",
    "\n",
    "print(\"Done!\")    "
   ]
  },
  {
   "cell_type": "code",
   "execution_count": 18,
   "metadata": {},
   "outputs": [
    {
     "name": "stdout",
     "output_type": "stream",
     "text": [
      "1\n",
      "2\n",
      "3\n",
      "4\n",
      "5\n",
      "Done!\n"
     ]
    }
   ],
   "source": [
    "for item in (1, 2, 3, 4, 5) :\n",
    "    print(item)\n",
    "    \n",
    "print(\"Done!\") "
   ]
  },
  {
   "cell_type": "code",
   "execution_count": 19,
   "metadata": {},
   "outputs": [
    {
     "name": "stdout",
     "output_type": "stream",
     "text": [
      "a\n",
      "p\n",
      "p\n",
      "l\n",
      "e\n",
      "Done!\n"
     ]
    }
   ],
   "source": [
    "for item in \"apple\" :\n",
    "    print(item)\n",
    "    \n",
    "print(\"Done!\") "
   ]
  },
  {
   "cell_type": "code",
   "execution_count": 20,
   "metadata": {},
   "outputs": [
    {
     "name": "stdout",
     "output_type": "stream",
     "text": [
      "1\n",
      "2\n",
      "3\n",
      "4\n",
      "5\n",
      "6\n",
      "7\n",
      "8\n",
      "9\n",
      "10\n"
     ]
    }
   ],
   "source": [
    "# range() built-in function\n",
    "\n",
    "for item in range(1, 11) :\n",
    "    print(item)"
   ]
  },
  {
   "cell_type": "code",
   "execution_count": 21,
   "metadata": {},
   "outputs": [
    {
     "name": "stdout",
     "output_type": "stream",
     "text": [
      "1\n",
      "3\n",
      "5\n",
      "7\n",
      "9\n"
     ]
    }
   ],
   "source": [
    "\n",
    "for item in range(1, 11, 2) :\n",
    "    print(item)"
   ]
  },
  {
   "cell_type": "code",
   "execution_count": 22,
   "metadata": {},
   "outputs": [
    {
     "name": "stdout",
     "output_type": "stream",
     "text": [
      "\n",
      "There are 7 dwarves and Snow White\n",
      "Happy\n",
      "Grumpy\n",
      "Sleepy\n",
      "Bashful\n",
      "Sneezy\n",
      "Doc\n",
      "Dopey\n"
     ]
    }
   ],
   "source": [
    "dwarves = [\"Happy\", \"Grumpy\", \"Sleepy\", \"Bashful\", \"Sneezy\", \"Doc\", \"Dopey\"]\n",
    "\n",
    "print(f\"\\nThere are {len(dwarves)} dwarves and Snow White\")\n",
    "for dwarf in dwarves : \n",
    "    print(dwarf)\n",
    "    "
   ]
  },
  {
   "cell_type": "markdown",
   "metadata": {},
   "source": [
    "### Exercise 4\n",
    "If you save $1,000 every year with 1% annual interest, how much would you save in 5 years?\n",
    "\n",
    "Fix code in below cell and show it works."
   ]
  },
  {
   "cell_type": "code",
   "execution_count": null,
   "metadata": {},
   "outputs": [],
   "source": [
    "# original\n",
    "\n",
    "rate = 1\n",
    "savings = 0\n",
    "\n",
    "for i in range(1, 5) :\n",
    "    savings = savings + 1000 \n",
    "    savings = savings * rate\n",
    "\n",
    "print(\"${savings:,2f}\")    "
   ]
  },
  {
   "cell_type": "code",
   "execution_count": null,
   "metadata": {},
   "outputs": [],
   "source": []
  }
 ],
 "metadata": {
  "kernelspec": {
   "display_name": "Python 3",
   "language": "python",
   "name": "python3"
  },
  "language_info": {
   "codemirror_mode": {
    "name": "ipython",
    "version": 3
   },
   "file_extension": ".py",
   "mimetype": "text/x-python",
   "name": "python",
   "nbconvert_exporter": "python",
   "pygments_lexer": "ipython3",
   "version": "3.8.8"
  }
 },
 "nbformat": 4,
 "nbformat_minor": 2
}
